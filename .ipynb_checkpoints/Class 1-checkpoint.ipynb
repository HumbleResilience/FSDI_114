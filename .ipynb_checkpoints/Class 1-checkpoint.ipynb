{
 "cells": [
  {
   "cell_type": "code",
   "execution_count": 1,
   "id": "5ce9cb25",
   "metadata": {},
   "outputs": [
    {
     "name": "stdout",
     "output_type": "stream",
     "text": [
      "h\n",
      "e\n",
      "l\n",
      "l\n",
      "o\n",
      ",\n",
      " \n",
      "w\n",
      "o\n",
      "r\n",
      "l\n",
      "d\n"
     ]
    }
   ],
   "source": [
    "# for letter in \"hello, world\":\n",
    "#     print(letter)"
   ]
  },
  {
   "cell_type": "code",
   "execution_count": 6,
   "id": "1aff13a4",
   "metadata": {},
   "outputs": [],
   "source": [
    "#define function sort characters <- parameters: list of characters;\n",
    "    # swap_detected = True\n",
    "    #loop until swap detected is False\n",
    "    # for each index in the range of len(char_list_a) and store index temporarily in \"idx\"\n",
    "        # if char in idx > character at idx +1:\n",
    "            # #temp_var = char_list_a[idx] \n",
    "            # temp_var_2 = char_list_a[idx+1]\n",
    "    #else:\n",
    "        #swap_detected is False\n",
    "\n",
    "# return list_of_characters\n",
    "\n",
    "# define function \"is_anagram\" <- parameters: string_a, string_b\n",
    "#if length of string_a != length of string_b; then\n",
    "#    return False\n",
    "#\n",
    "#string_a = uppercase(string_a)\n",
    "#string_b = uppercase(string_b)\n",
    "#char_list_a = list()\n",
    "#char_list_b = list()\n",
    "#loop through every character in string_a and store value temporarily in \"char_a\":\n",
    "#      char_list.append(char_a) append char_a to char_list\n",
    "#loop through every character in string_b and store value temporarily in \"char_b\":\n",
    "#       append char_b to char_list_b]\n",
    "# loop through every character in char_list_a: and store value temporarily in char_a: \n",
    "\n",
    "#char_list_a = sort_characters(char_list_a)\n",
    "#char_list_b = sort_characters(char_list_b)\n",
    "\n",
    "#return true if char_list_a  = char_list_b"
   ]
  },
  {
   "cell_type": "code",
   "execution_count": 3,
   "id": "ebaf888c",
   "metadata": {},
   "outputs": [
    {
     "data": {
      "text/plain": [
       "65"
      ]
     },
     "execution_count": 3,
     "metadata": {},
     "output_type": "execute_result"
    }
   ],
   "source": [
    "# ord('A')"
   ]
  },
  {
   "cell_type": "code",
   "execution_count": 4,
   "id": "7e2a55c8",
   "metadata": {},
   "outputs": [
    {
     "name": "stdout",
     "output_type": "stream",
     "text": [
      "65\n"
     ]
    }
   ],
   "source": [
    "# char_num = ord('A')\n",
    "# print(char_num)"
   ]
  },
  {
   "cell_type": "code",
   "execution_count": 5,
   "id": "f28bad9e",
   "metadata": {},
   "outputs": [
    {
     "name": "stdout",
     "output_type": "stream",
     "text": [
      "A\n"
     ]
    }
   ],
   "source": [
    "# print(chr(char_num))"
   ]
  },
  {
   "cell_type": "code",
   "execution_count": null,
   "id": "e7de8529",
   "metadata": {},
   "outputs": [],
   "source": [
    "# convert string_a to uppercase\n",
    "# convert string_b to uppercase\n"
   ]
  },
  {
   "cell_type": "code",
   "execution_count": 7,
   "id": "3cedf122",
   "metadata": {},
   "outputs": [],
   "source": [
    "def is_anagram(string_a, string_b):\n",
    "    if len(string_a) != len(string_b): \n",
    "        return False                      \n",
    "    char_times_a = dict()\n",
    "    char_times_b = dict()\n",
    "    \n",
    "    for i in range(len(string_a)):\n",
    "        if string_a[i] not in char_times_a.keys():\n",
    "            char_times_a[string_a[i]] = 1\n",
    "        else: \n",
    "            char_times_a[string_a[i]] += 1\n",
    "        \n",
    "        if string_b[i] not in char_times_b.keys():\n",
    "            char_times_b[string_b[i]] +=1\n",
    "        else:\n",
    "            char_times_b[string_b[i]] +=1\n",
    "    return char_times_a == char_times_b"
   ]
  },
  {
   "cell_type": "code",
   "execution_count": 9,
   "id": "5d01d85d",
   "metadata": {},
   "outputs": [],
   "source": [
    "# covering the length case\n",
    "# simple edge case\n",
    "# lets us tuse two dicts to count,\n",
    "# the number of occurrences per char,\n",
    "# because we know these are not equal length\n",
    "# we simply count how many times we see each char\n",
    "\n",
    "# it doesn't matter that these are different chars that [I] is accessing\n",
    "# as long as these two are equal"
   ]
  },
  {
   "cell_type": "code",
   "execution_count": 6,
   "id": "002db2b3",
   "metadata": {},
   "outputs": [
    {
     "ename": "NameError",
     "evalue": "name 'char_time_b' is not defined",
     "output_type": "error",
     "traceback": [
      "\u001b[0;31m---------------------------------------------------------------------------\u001b[0m",
      "\u001b[0;31mNameError\u001b[0m                                 Traceback (most recent call last)",
      "Input \u001b[0;32mIn [6]\u001b[0m, in \u001b[0;36m<cell line: 1>\u001b[0;34m()\u001b[0m\n\u001b[0;32m----> 1\u001b[0m \u001b[43mis_anagram\u001b[49m\u001b[43m(\u001b[49m\u001b[38;5;124;43m\"\u001b[39;49m\u001b[38;5;124;43mcars\u001b[39;49m\u001b[38;5;124;43m\"\u001b[39;49m\u001b[43m,\u001b[49m\u001b[43m \u001b[49m\u001b[38;5;124;43m\"\u001b[39;49m\u001b[38;5;124;43mscar\u001b[39;49m\u001b[38;5;124;43m\"\u001b[39;49m\u001b[43m)\u001b[49m\n",
      "Input \u001b[0;32mIn [5]\u001b[0m, in \u001b[0;36mis_anagram\u001b[0;34m(string_a, string_b)\u001b[0m\n\u001b[1;32m     10\u001b[0m \u001b[38;5;28;01melse\u001b[39;00m: \n\u001b[1;32m     11\u001b[0m     char_times_a[string_a[i]] \u001b[38;5;241m+\u001b[39m\u001b[38;5;241m=\u001b[39m \u001b[38;5;241m1\u001b[39m\n\u001b[0;32m---> 13\u001b[0m \u001b[38;5;28;01mif\u001b[39;00m string_b[i] \u001b[38;5;129;01mnot\u001b[39;00m \u001b[38;5;129;01min\u001b[39;00m \u001b[43mchar_time_b\u001b[49m\u001b[38;5;241m.\u001b[39mkeys():\n\u001b[1;32m     14\u001b[0m     char_times_b[string_b[i]] \u001b[38;5;241m+\u001b[39m\u001b[38;5;241m=\u001b[39m\u001b[38;5;241m1\u001b[39m\n\u001b[1;32m     15\u001b[0m \u001b[38;5;28;01melse\u001b[39;00m:\n",
      "\u001b[0;31mNameError\u001b[0m: name 'char_time_b' is not defined"
     ]
    }
   ],
   "source": [
    "is_anagram(\"cars\", \"scar\")\n"
   ]
  },
  {
   "cell_type": "code",
   "execution_count": null,
   "id": "ab577033",
   "metadata": {},
   "outputs": [],
   "source": []
  }
 ],
 "metadata": {
  "kernelspec": {
   "display_name": "Python 3 (ipykernel)",
   "language": "python",
   "name": "python3"
  },
  "language_info": {
   "codemirror_mode": {
    "name": "ipython",
    "version": 3
   },
   "file_extension": ".py",
   "mimetype": "text/x-python",
   "name": "python",
   "nbconvert_exporter": "python",
   "pygments_lexer": "ipython3",
   "version": "3.8.10"
  }
 },
 "nbformat": 4,
 "nbformat_minor": 5
}
