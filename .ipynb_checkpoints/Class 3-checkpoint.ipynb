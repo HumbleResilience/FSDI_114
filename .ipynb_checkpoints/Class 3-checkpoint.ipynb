{
 "cells": [
  {
   "cell_type": "markdown",
   "id": "91c1ea69",
   "metadata": {},
   "source": [
    "# Balanced parentheses check\n",
    "\n",
    "Given  a string of opening and closing parentheses, check whether its balanced.\n",
    "We have 3 types of parentheses: roud(), square`[]` and curly{}\n",
    "\n",
    "Assumptions: Parameter string doesn't contain any other characters other than these (No spaces, words or numbers)\n",
    "\n",
    "Balanced parentheses require every openning to be closed in the reverse order opened.\n",
    "\n",
    "## examples ([]) is balanced ([)] is not balanced\n",
    "\n",
    "### instructions:\n",
    "\n",
    "create a function called balance_check that takes paramenter \"s\".\n",
    "balance_check(\"()\") should return True."
   ]
  },
  {
   "cell_type": "code",
   "execution_count": 5,
   "id": "0e7a3e14",
   "metadata": {},
   "outputs": [],
   "source": [
    "# pseudo code to solve this problem\n",
    "# define fun \"balance_check\" with parameters s (string):\n",
    "#   string_length = length_of(s)\n",
    "#   if string_length has an odd num of chars\n",
    "#      return False\n",
    "#   else:\n",
    "#        if the first char in opening parentheses blalh blah\n",
    "#         valid matches = [(\"(\", \")\")], (\"[\", \"]\"), (\"{\", \"}]\")\n",
    "#      stack = new stack() #create an instance of stack() for each character in s\n",
    "#           if the character is an opening parenthesese:\n",
    "#        else: \n",
    "#           last_parentheses = stack.pop()\n",
    "##           if  (last_parentheses, char) is not in valid_matches:\n",
    "#                   return False\n",
    "#         return True if stack is empty False otherwise\n",
    "\n",
    "def balance_check(s):\n",
    "    string_length = len(s)\n",
    "    if string_length % 2 == 1\n",
    "        return False\n",
    "    else: \n",
    "        valid_matches = [(\"(\",\")\")], (\"[\",\"]\"), (\"{\",\"}\")\n",
    "        \n",
    "    "
   ]
  },
  {
   "cell_type": "code",
   "execution_count": 6,
   "id": "6515366b",
   "metadata": {},
   "outputs": [],
   "source": [
    "# assert balance_check(\"([{}])\") == True\n",
    "# assert balance_check(\"(((((())))))\") == False\n",
    "# assert balance_check (\"()()(){}{}((({})))\") == True"
   ]
  },
  {
   "cell_type": "code",
   "execution_count": 7,
   "id": "5ee8c349",
   "metadata": {},
   "outputs": [],
   "source": [
    "class Stack:\n",
    "    def __init__(self):\n",
    "        self.items = []\n",
    "    \n",
    "    def is_empty(self):\n",
    "        return self.items == []\n",
    "    \n",
    "    def push(self, item):\n",
    "        self.items.append(item)\n",
    "    \n",
    "    def pop(self):\n",
    "        return self.items.pop()\n",
    "    \n",
    "    def peek(self):\n",
    "        return self.items[lens(self.items)-1]\n",
    "    \n",
    "    def size(self):\n",
    "        return len(self.items)"
   ]
  },
  {
   "cell_type": "markdown",
   "id": "6795edd4",
   "metadata": {},
   "source": [
    "## Queue 2 stacks\n",
    "### Using two stacks create a queue\n",
    "#### stacks are LIFO AND queus are FIFO  "
   ]
  },
  {
   "cell_type": "code",
   "execution_count": 9,
   "id": "58eab637",
   "metadata": {},
   "outputs": [],
   "source": [
    "# https://gyazo.com/0af3b0cd07701ac1c6e6c1ce2c8c15f8\n",
    "    "
   ]
  },
  {
   "cell_type": "code",
   "execution_count": null,
   "id": "eb9222ee",
   "metadata": {},
   "outputs": [],
   "source": []
  }
 ],
 "metadata": {
  "kernelspec": {
   "display_name": "Python 3 (ipykernel)",
   "language": "python",
   "name": "python3"
  },
  "language_info": {
   "codemirror_mode": {
    "name": "ipython",
    "version": 3
   },
   "file_extension": ".py",
   "mimetype": "text/x-python",
   "name": "python",
   "nbconvert_exporter": "python",
   "pygments_lexer": "ipython3",
   "version": "3.8.10"
  }
 },
 "nbformat": 4,
 "nbformat_minor": 5
}
