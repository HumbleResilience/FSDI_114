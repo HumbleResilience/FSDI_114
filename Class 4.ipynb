{
 "cells": [
  {
   "cell_type": "code",
   "execution_count": 1,
   "id": "55bec242",
   "metadata": {},
   "outputs": [],
   "source": [
    "#recursive factorial\n",
    "\n",
    "def fact(n):\n",
    "    if n==0:\n",
    "        return 1\n",
    "    return n*fact(n-1)\n",
    "\n"
   ]
  },
  {
   "cell_type": "code",
   "execution_count": 5,
   "id": "994e04eb",
   "metadata": {},
   "outputs": [],
   "source": [
    "from functools import lru_cache\n",
    "\n",
    "@lru_cache \n",
    "def fib(n):\n",
    "    if n< 2: \n",
    "        return n\n",
    "    return fib(n-1) + fib(n-2)"
   ]
  },
  {
   "cell_type": "code",
   "execution_count": 7,
   "id": "4ab6de02",
   "metadata": {},
   "outputs": [
    {
     "data": {
      "text/plain": [
       "354224848179261915075"
      ]
     },
     "execution_count": 7,
     "metadata": {},
     "output_type": "execute_result"
    }
   ],
   "source": [
    "fib(100)"
   ]
  },
  {
   "cell_type": "code",
   "execution_count": 37,
   "id": "adfc8430",
   "metadata": {},
   "outputs": [],
   "source": [
    "class HashTable:\n",
    "    def __init__(self, size):\n",
    "        #setting up size slots and data\n",
    "        self.size = size\n",
    "        self.slots = [None] * self.size\n",
    "        self.data = [None] * self.size\n",
    "        \n",
    "        \n",
    "    #were only using integer values for \"Key\"\n",
    "    def put(self, key, data):\n",
    "        #calculating hashalue\n",
    "        hashvalue = self.hashfunction(key, len(self.slots))\n",
    "        print(\"Storing with hashvalue %s\" %hashvalue)\n",
    "        #checking if the slot at that index is empty\n",
    "        if self.slots[hashvalue] == None:\n",
    "            self.slots[hashvalue] = key\n",
    "            self.data[hashvalue] = data\n",
    "            print(\"Stored: %s with key: %s\" %(key, data))\n",
    "        else:\n",
    "            #if key already exists, replace old value\n",
    "            if self.slots[hashvalue] == key:\n",
    "                self.data[hashvalue] = data;\n",
    "                print(\"Stored: %s with key: %s\" %(key, data))\n",
    "            else: \n",
    "                # Otherwise: find the next available slot\n",
    "                nextslot = self.rehash(hashvalue, len(self.slots))\n",
    "                while self.slots[nextslot] != None and self.slots[nextslot] != key:\n",
    "                    nextslot = self.rehash(nextslot, len(self.slots))\n",
    "                if self.slots[nextslot] == None:\n",
    "                    self.slots[nextslot] = key\n",
    "                    self.data[nextslot] = data\n",
    "                    print(\"Stored: %s with key: %s\" %(key, data))\n",
    "                else:\n",
    "                    self.data[nextslot]= data\n",
    "                    print(\"Stored: %s with key: %s\" %(key, data))\n",
    "                \n",
    "    def hashfunction(self,key,size):\n",
    "        return key%size\n",
    "    \n",
    "    def rehash(self, oldhash, size):\n",
    "        return (oldhash+1)%size\n",
    "    \n",
    "    def get(self,key):\n",
    "        startslot = self.hashfunction(key, len(self.slots))\n",
    "        data = None\n",
    "        stop = False\n",
    "        found = False\n",
    "        position = startslot\n",
    "        while self.slots[position]!= None and not found and not stop:\n",
    "            if self.slots[position]== key:\n",
    "                found = True\n",
    "                data = self.data[position]\n",
    "                print(\"Found key at position: %s with data: %s\" % (position, data))\n",
    "            else:\n",
    "                position = self.rehash(position, len(self.slots))\n",
    "                if position == startslot:\n",
    "                    stop = True\n",
    "            \n",
    "            return data\n",
    "    \n",
    "    def __getitem__(self, key):\n",
    "        return self.get(key)\n",
    "    def __setitem__(self, key, data):\n",
    "        self.put(key, data)\n",
    "        \n",
    "    def print_table(self):\n",
    "        for i in range(self.size):\n",
    "            print(\" %s -> %s\" %(self.slots[i], self.data[i]))\n",
    "    \n",
    "            "
   ]
  },
  {
   "cell_type": "code",
   "execution_count": 3,
   "id": "56e624cf",
   "metadata": {},
   "outputs": [
    {
     "ename": "NameError",
     "evalue": "name 'HashTable' is not defined",
     "output_type": "error",
     "traceback": [
      "\u001b[0;31m---------------------------------------------------------------------------\u001b[0m",
      "\u001b[0;31mNameError\u001b[0m                                 Traceback (most recent call last)",
      "Input \u001b[0;32mIn [3]\u001b[0m, in \u001b[0;36m<cell line: 1>\u001b[0;34m()\u001b[0m\n\u001b[0;32m----> 1\u001b[0m ht \u001b[38;5;241m=\u001b[39m \u001b[43mHashTable\u001b[49m(\u001b[38;5;241m11\u001b[39m)\n\u001b[1;32m      2\u001b[0m values \u001b[38;5;241m=\u001b[39m [\u001b[38;5;241m0\u001b[39m, \u001b[38;5;241m1\u001b[39m, \u001b[38;5;241m1\u001b[39m, \u001b[38;5;241m3\u001b[39m, \u001b[38;5;241m5\u001b[39m, \u001b[38;5;241m8\u001b[39m, \u001b[38;5;241m13\u001b[39m, \u001b[38;5;241m21\u001b[39m]\n\u001b[1;32m      4\u001b[0m \u001b[38;5;28;01mdef\u001b[39;00m \u001b[38;5;21mload_hashtable\u001b[39m():\n",
      "\u001b[0;31mNameError\u001b[0m: name 'HashTable' is not defined"
     ]
    }
   ],
   "source": [
    "ht = HashTable(11)\n",
    "values = [0, 1, 1, 3, 5, 8, 13, 21]\n",
    "\n",
    "def load_hashtable():\n",
    "    for i in range(8):\n",
    "        ht.put(i+1, value[i])\n",
    "ht.print_table()     \n",
    "print(ht.get(8))\n",
    "    "
   ]
  },
  {
   "cell_type": "code",
   "execution_count": null,
   "id": "a33a9dcc",
   "metadata": {},
   "outputs": [],
   "source": [
    "#linked lists\n",
    "\n",
    "class Node:\n",
    "    def __init__(self,data):\n",
    "        self.data = data\n",
    "        self.next = None"
   ]
  },
  {
   "cell_type": "code",
   "execution_count": 39,
   "id": "b52a5991",
   "metadata": {},
   "outputs": [
    {
     "ename": "NameError",
     "evalue": "name 'Node' is not defined",
     "output_type": "error",
     "traceback": [
      "\u001b[0;31m---------------------------------------------------------------------------\u001b[0m",
      "\u001b[0;31mNameError\u001b[0m                                 Traceback (most recent call last)",
      "Input \u001b[0;32mIn [39]\u001b[0m, in \u001b[0;36m<cell line: 1>\u001b[0;34m()\u001b[0m\n\u001b[0;32m----> 1\u001b[0m node1 \u001b[38;5;241m=\u001b[39m \u001b[43mNode\u001b[49m(\u001b[38;5;241m10\u001b[39m)\n\u001b[1;32m      2\u001b[0m node2 \u001b[38;5;241m=\u001b[39m Node(\u001b[38;5;241m11\u001b[39m)\n\u001b[1;32m      3\u001b[0m node3 \u001b[38;5;241m=\u001b[39m Node(\u001b[38;5;241m12\u001b[39m)\n",
      "\u001b[0;31mNameError\u001b[0m: name 'Node' is not defined"
     ]
    }
   ],
   "source": [
    "node1 = Node(10)\n",
    "node2 = Node(11)\n",
    "node3 = Node(12)\n",
    "\n",
    "node1.next = node2\n",
    "node2.next = node3\n",
    "\n",
    "current = node1\n",
    "while current != None:\n",
    "    print(current.data)\n",
    "    current = current.next"
   ]
  },
  {
   "cell_type": "code",
   "execution_count": 43,
   "id": "16697c82",
   "metadata": {},
   "outputs": [],
   "source": [
    "class SinglyLinkedList:\n",
    "    def __init__(self):\n",
    "        self.head = None\n",
    "        \n",
    "    def append(self, value):\n",
    "        current = self.head\n",
    "        if not current:\n",
    "            self.head = Node(value)\n",
    "        else:\n",
    "            while current.next:\n",
    "                current = current.next\n",
    "            current.next = Node(value)\n",
    "    def prepend(self, value):\n",
    "        current = self.head\n",
    "        if not current: \n",
    "            self.head = Node(value)\n",
    "            temp_node = self.head\n",
    "            new_node.next = temp_node\n",
    "            self.head = new_node\n",
    "        "
   ]
  },
  {
   "cell_type": "code",
   "execution_count": 44,
   "id": "78767725",
   "metadata": {},
   "outputs": [],
   "source": [
    "class DNode:\n",
    "    def __init__(self, data):\n",
    "        self.data = data\n",
    "        self.next = None\n",
    "        self.prev = None"
   ]
  },
  {
   "cell_type": "code",
   "execution_count": 45,
   "id": "b833b160",
   "metadata": {},
   "outputs": [],
   "source": [
    "#implement doublylinkedlist that implements append and prepend\n"
   ]
  },
  {
   "cell_type": "code",
   "execution_count": 6,
   "id": "6de6f5fb",
   "metadata": {},
   "outputs": [
    {
     "ename": "SyntaxError",
     "evalue": "invalid syntax (4146847060.py, line 6)",
     "output_type": "error",
     "traceback": [
      "\u001b[0;36m  Input \u001b[0;32mIn [6]\u001b[0;36m\u001b[0m\n\u001b[0;31m    if self.start_node is None\u001b[0m\n\u001b[0m                              ^\u001b[0m\n\u001b[0;31mSyntaxError\u001b[0m\u001b[0;31m:\u001b[0m invalid syntax\n"
     ]
    }
   ],
   "source": [
    "class doublyLinkedList:\n",
    "    def __init__(self):\n",
    "        self.start_node = None\n",
    "    \n",
    "    def prepend(self, data):\n",
    "        if self.start_node is None:\n",
    "            new_node = Node(data)\n",
    "            self.start_node = new_node\n",
    "        else:\n",
    "            print(\"List is empty\")\n",
    "            \n",
    "    def append(self, data):\n",
    "        # Check if the list is empty\n",
    "        if self.start_node is None:\n",
    "            new_node = Node(data)\n",
    "            self.start_node = new_node\n",
    "            return\n",
    "        n = self.start_node\n",
    "        # Iterate till the next reaches NULL\n",
    "        while n.next is not None:\n",
    "            n = n.next\n",
    "        new_node = Node(data)\n",
    "        n.next = new_node\n",
    "        new_node.prev = n\n",
    "            \n",
    "    \n",
    "list = doublyLinkedList()\n",
    "\n",
    "        "
   ]
  },
  {
   "cell_type": "code",
   "execution_count": null,
   "id": "2a58f2ac",
   "metadata": {},
   "outputs": [],
   "source": []
  }
 ],
 "metadata": {
  "kernelspec": {
   "display_name": "Python 3 (ipykernel)",
   "language": "python",
   "name": "python3"
  },
  "language_info": {
   "codemirror_mode": {
    "name": "ipython",
    "version": 3
   },
   "file_extension": ".py",
   "mimetype": "text/x-python",
   "name": "python",
   "nbconvert_exporter": "python",
   "pygments_lexer": "ipython3",
   "version": "3.8.10"
  }
 },
 "nbformat": 4,
 "nbformat_minor": 5
}
