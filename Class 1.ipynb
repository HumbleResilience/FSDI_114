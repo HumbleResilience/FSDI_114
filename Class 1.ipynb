{
 "cells": [
  {
   "cell_type": "code",
   "execution_count": 1,
   "id": "5ce9cb25",
   "metadata": {},
   "outputs": [
    {
     "name": "stdout",
     "output_type": "stream",
     "text": [
      "h\n",
      "e\n",
      "l\n",
      "l\n",
      "o\n",
      ",\n",
      " \n",
      "w\n",
      "o\n",
      "r\n",
      "l\n",
      "d\n"
     ]
    }
   ],
   "source": [
    "for letter in \"hello, world\":\n",
    "    print(letter)"
   ]
  },
  {
   "cell_type": "code",
   "execution_count": 6,
   "id": "1aff13a4",
   "metadata": {},
   "outputs": [],
   "source": [
    "# define function \"is_anagram\" <- parameters: string_a, string_b\n",
    "#if length of string_a != length of string_b; then\n",
    "#    return False\n",
    "#\n",
    "#string_a = uppercase(string_a)\n",
    "#string_b = uppercase(string_b)\n",
    "#char_list_a = list()\n",
    "#char_list_b = list()\n",
    "#loop through every character in string_a and store value temporarily in \"char_a\":\n",
    "#      char_list.append(char_a) append char_a to char_list\n",
    "#loop through every character in string_b and store value temporarily in \"char_b\":\n",
    "#       append char_b to char_list_b"
   ]
  },
  {
   "cell_type": "code",
   "execution_count": 3,
   "id": "ebaf888c",
   "metadata": {},
   "outputs": [
    {
     "data": {
      "text/plain": [
       "65"
      ]
     },
     "execution_count": 3,
     "metadata": {},
     "output_type": "execute_result"
    }
   ],
   "source": [
    "ord('A')"
   ]
  },
  {
   "cell_type": "code",
   "execution_count": 4,
   "id": "7e2a55c8",
   "metadata": {},
   "outputs": [
    {
     "name": "stdout",
     "output_type": "stream",
     "text": [
      "65\n"
     ]
    }
   ],
   "source": [
    "char_num = ord('A')\n",
    "print(char_num)"
   ]
  },
  {
   "cell_type": "code",
   "execution_count": 5,
   "id": "f28bad9e",
   "metadata": {},
   "outputs": [
    {
     "name": "stdout",
     "output_type": "stream",
     "text": [
      "A\n"
     ]
    }
   ],
   "source": [
    "print(chr(char_num))"
   ]
  },
  {
   "cell_type": "code",
   "execution_count": null,
   "id": "e7de8529",
   "metadata": {},
   "outputs": [],
   "source": [
    "# convert string_a to uppercase\n",
    "# convert string_b to uppercase\n"
   ]
  }
 ],
 "metadata": {
  "kernelspec": {
   "display_name": "Python 3 (ipykernel)",
   "language": "python",
   "name": "python3"
  },
  "language_info": {
   "codemirror_mode": {
    "name": "ipython",
    "version": 3
   },
   "file_extension": ".py",
   "mimetype": "text/x-python",
   "name": "python",
   "nbconvert_exporter": "python",
   "pygments_lexer": "ipython3",
   "version": "3.8.10"
  }
 },
 "nbformat": 4,
 "nbformat_minor": 5
}
